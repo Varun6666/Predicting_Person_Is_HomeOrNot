{
 "cells": [
  {
   "cell_type": "markdown",
   "id": "a745f836-a3e2-413b-8ee1-4ab7ded1f1e7",
   "metadata": {},
   "source": [
    "### PREDICTING A PERSON IS HOME OR NOT DURING THE DAY TIME"
   ]
  },
  {
   "cell_type": "markdown",
   "id": "44348dfc-6980-46cc-9961-d29c1a5c3d9d",
   "metadata": {},
   "source": [
    "#### Aim of the Notebook:\n",
    "The aim of this project is to build a predictive model that determines whether a household is occupied during standard daytime hours on weekdays using demographic, appliance ownership, and behavioral data collected from Australian households as part of the Smart Grid Smart City trial. This model will support smarter energy planning by enabling utility providers to tailor services, manage demand more effectively, and develop targeted engagement strategies for energy-saving programs."
   ]
  },
  {
   "cell_type": "markdown",
   "id": "85e3aa87-7aeb-4dfa-919d-167883fb66f9",
   "metadata": {},
   "source": [
    "#### Group Name : Group 6\n",
    "Name : Varun Chandra Shekar  \n",
    "Student ID: s4017549"
   ]
  },
  {
   "cell_type": "code",
   "execution_count": null,
   "id": "b5789d00-a780-425f-9a0e-31b7f464fc40",
   "metadata": {},
   "outputs": [],
   "source": []
  }
 ],
 "metadata": {
  "kernelspec": {
   "display_name": "Python 3 (ipykernel)",
   "language": "python",
   "name": "python3"
  },
  "language_info": {
   "codemirror_mode": {
    "name": "ipython",
    "version": 3
   },
   "file_extension": ".py",
   "mimetype": "text/x-python",
   "name": "python",
   "nbconvert_exporter": "python",
   "pygments_lexer": "ipython3",
   "version": "3.11.7"
  }
 },
 "nbformat": 4,
 "nbformat_minor": 5
}
